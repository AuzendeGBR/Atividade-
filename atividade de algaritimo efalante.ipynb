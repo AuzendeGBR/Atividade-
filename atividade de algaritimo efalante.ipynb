{
 "cells": [
  {
   "cell_type": "code",
   "execution_count": 1,
   "metadata": {},
   "outputs": [
    {
     "name": "stdout",
     "output_type": "stream",
     "text": [
      "5 patinhos foram passear\n",
      "Além das montanhas para brincar\n",
      "A mamãe gritou: Quá, quá, quá, quá\n",
      "Mas só 4 patinho voltou de lá\n",
      "\n",
      "4 patinhos foram passear\n",
      "Além das montanhas para brincar\n",
      "A mamãe gritou: Quá, quá, quá, quá\n",
      "Mas só 3 patinho voltou de lá\n",
      "\n",
      "3 patinhos foram passear\n",
      "Além das montanhas para brincar\n",
      "A mamãe gritou: Quá, quá, quá, quá\n",
      "Mas só 2 patinho voltou de lá\n",
      "\n",
      "2 patinhos foram passear\n",
      "Além das montanhas para brincar\n",
      "A mamãe gritou: Quá, quá, quá, quá\n",
      "Mas só 1 patinho voltou de lá\n",
      "\n",
      "1 patinhos foram passear\n",
      "Além das montanhas para brincar\n",
      "A mamãe gritou: Quá, quá, quá, quá\n",
      "Mas só nenhum patinho voltou de lá\n",
      "\n",
      "A mamãe patinha foi procurar\n",
      "Além das montanhas na beira do mar\n",
      "A mamãe gritou: Quá, quá, quá, quá\n",
      "E os cinco patinhos voltaram de lá\n"
     ]
    }
   ],
   "source": [
    "for i in range(5, 0, -1):\n",
    "    print(f\"{i} patinhos foram passear\")\n",
    "    print(\"Além das montanhas para brincar\")\n",
    "    print(\"A mamãe gritou: Quá, quá, quá, quá\")\n",
    "    print(f\"Mas só {i-1 if i > 1 else 'nenhum'} patinho voltou de lá\\n\")\n",
    "\n",
    "print(\"A mamãe patinha foi procurar\")\n",
    "print(\"Além das montanhas na beira do mar\")\n",
    "print(\"A mamãe gritou: Quá, quá, quá, quá\")\n",
    "print(\"E os cinco patinhos voltaram de lá\")"
   ]
  },
  {
   "cell_type": "code",
   "execution_count": 7,
   "metadata": {},
   "outputs": [
    {
     "name": "stdout",
     "output_type": "stream",
     "text": [
      "1 elefante incomoda muita gente\n",
      "2 elefantes  incomodam, incomodam,  muito mais!\n",
      "3 elefantes  incomodam muita gente!\n",
      "4 elefantes incomodam, incomodam, incomodam, incomodam,  muito mais!\n",
      "5 elefantes  incomodam muita gente!\n",
      "6 elefantes incomodam, incomodam, incomodam, incomodam, incomodam, incomodam,  muito mais!\n",
      "7 elefantes  incomodam muita gente!\n",
      "8 elefantes incomodam, incomodam, incomodam, incomodam, incomodam, incomodam, incomodam, incomodam,  muito mais!\n",
      "9 elefantes  incomodam muita gente!\n",
      "10 elefantes incomodam, incomodam, incomodam, incomodam, incomodam, incomodam, incomodam, incomodam, incomodam, incomodam,  muito mais!\n",
      "9 elefantes incomodam, incomodam, incomodam, incomodam, incomodam, incomodam, incomodam, incomodam, incomodam,  muito menos!\n",
      "8 elefantes  incomodam muita gente!\n",
      "7 elefantes incomodam, incomodam, incomodam, incomodam, incomodam, incomodam, incomodam,  muito menos!\n",
      "6 elefantes  incomodam muita gente!\n",
      "5 elefantes incomodam, incomodam, incomodam, incomodam, incomodam,  muito menos!\n",
      "4 elefantes  incomodam muita gente!\n",
      "3 elefantes incomodam, incomodam, incomodam,  muito menos!\n",
      "2 elefantes  incomodam muita gente!\n",
      "1 elefantes incomodam,  muito menos!\n"
     ]
    }
   ],
   "source": [
    "incomodam = 'incomodam, '\n",
    "\n",
    "for i in range(1, 11):\n",
    "    if i % 2 == 0:\n",
    "        if i == 2:\n",
    "             print(i, 'elefantes ', incomodam * i  , 'muito mais!')\n",
    "        else:\n",
    "            print(i, 'elefantes',  incomodam * i ,'muito mais!')\n",
    "        \n",
    "    else:\n",
    "        if i == 1:\n",
    "            print(i, 'elefante incomoda muita gente')\n",
    "        else:\n",
    "            print(i, 'elefantes  incomodam muita gente!')\n",
    "\n",
    "for i in reversed(range(1, 10)):\n",
    "    if i % 2 != 0:\n",
    "        if i == 2:\n",
    "             print(i, 'elefantes ', incomodam * i  , 'muito mais!')\n",
    "        else:\n",
    "            print(i, 'elefantes',  incomodam * i ,'muito menos!')\n",
    "        \n",
    "    else:\n",
    "        if i == 1:\n",
    "            print(i, 'elefante incomoda muita gente')\n",
    "        else:\n",
    "            print(i, 'elefantes  incomodam muita gente!')"
   ]
  },
  {
   "cell_type": "code",
   "execution_count": 3,
   "metadata": {},
   "outputs": [
    {
     "name": "stdout",
     "output_type": "stream",
     "text": [
      "Mariana conta 1:\n",
      "é 1 \n",
      "Ana, viva a Mariana, viva a Mariana\n",
      "\n",
      "Mariana conta 2:\n",
      "é 1 é 2 \n",
      "Ana, viva a Mariana, viva a Mariana\n",
      "\n",
      "Mariana conta 3:\n",
      "é 1 é 2 é 3 \n",
      "Ana, viva a Mariana, viva a Mariana\n",
      "\n",
      "Mariana conta 4:\n",
      "é 1 é 2 é 3 é 4 \n",
      "Ana, viva a Mariana, viva a Mariana\n",
      "\n",
      "Mariana conta 5:\n",
      "é 1 é 2 é 3 é 4 é 5 \n",
      "Ana, viva a Mariana, viva a Mariana\n",
      "\n",
      "Mariana conta 6:\n",
      "é 1 é 2 é 3 é 4 é 5 é 6 \n",
      "Ana, viva a Mariana, viva a Mariana\n",
      "\n",
      "Mariana conta 7:\n",
      "é 1 é 2 é 3 é 4 é 5 é 6 é 7 \n",
      "Ana, viva a Mariana, viva a Mariana\n",
      "\n",
      "Mariana conta 8:\n",
      "é 1 é 2 é 3 é 4 é 5 é 6 é 7 é 8 \n",
      "Ana, viva a Mariana, viva a Mariana\n",
      "\n",
      "Mariana conta 9:\n",
      "é 1 é 2 é 3 é 4 é 5 é 6 é 7 é 8 é 9 \n",
      "Ana, viva a Mariana, viva a Mariana\n",
      "\n",
      "Mariana conta 10:\n",
      "é 1 é 2 é 3 é 4 é 5 é 6 é 7 é 8 é 9 é 10 \n",
      "Ana, viva a Mariana, viva a Mariana\n",
      "\n"
     ]
    }
   ],
   "source": [
    "for i in range(1, 11):\n",
    "    print(f\"Mariana conta {i}:\")\n",
    "    for x in range(1, i + 1):\n",
    "        print(f\"é {x}\", end=\" \")\n",
    "    print(\"\\nAna, viva a Mariana, viva a Mariana\\n\")"
   ]
  }
 ],
 "metadata": {
  "kernelspec": {
   "display_name": "Python 3",
   "language": "python",
   "name": "python3"
  },
  "language_info": {
   "codemirror_mode": {
    "name": "ipython",
    "version": 3
   },
   "file_extension": ".py",
   "mimetype": "text/x-python",
   "name": "python",
   "nbconvert_exporter": "python",
   "pygments_lexer": "ipython3",
   "version": "3.11.9"
  }
 },
 "nbformat": 4,
 "nbformat_minor": 2
}
